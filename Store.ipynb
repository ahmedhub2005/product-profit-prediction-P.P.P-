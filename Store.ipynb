{
 "cells": [
  {
   "cell_type": "code",
   "execution_count": null,
   "id": "5aec6833",
   "metadata": {},
   "outputs": [],
   "source": [
    "#import\n",
    "\n",
    "import pandas as pd\n",
    "import numpy as np\n",
    "import matplotlib.pyplot as plt\n",
    "from sklearn.ensemble import RandomForestRegressor\n",
    "from sklearn.ensemble import GradientBoostingRegressor\n",
    "from sklearn.linear_model import LinearRegression\n",
    "from sklearn.tree import DecisionTreeRegressor\n",
    "from xgboost import XGBRegressor\n",
    "from sklearn.neighbors import KNeighborsRegressor\n",
    "from sklearn.preprocessing import StandardScaler\n",
    "from sklearn import model_selection\n",
    "from sklearn import metrics\n",
    "import seaborn as sns\n",
    "from sklearn.metrics import r2_score\n",
    "from sklearn.model_selection import train_test_split\n"
   ]
  },
  {
   "cell_type": "code",
   "execution_count": null,
   "id": "a1334df7",
   "metadata": {},
   "outputs": [],
   "source": [
    "#Load the data\n",
    "data=pd.read_csv(r\"Sample - Superstore.csv\",encoding='latin1')"
   ]
  },
  {
   "cell_type": "code",
   "execution_count": null,
   "id": "3ff8f0c3",
   "metadata": {},
   "outputs": [],
   "source": [
    "data.dtypes"
   ]
  },
  {
   "cell_type": "code",
   "execution_count": null,
   "id": "0a0f6268",
   "metadata": {},
   "outputs": [],
   "source": [
    "category_sales = data.groupby('Category')['Sales'].sum()\n",
    "category_sales.plot(kind='bar')\n",
    "plt.title('Total Sales by Category')\n",
    "plt.xlabel('Category')\n",
    "plt.ylabel('Sales($)')\n",
    "plt.show()\n",
    "\n"
   ]
  },
  {
   "cell_type": "code",
   "execution_count": null,
   "id": "89859d87",
   "metadata": {},
   "outputs": [],
   "source": [
    "# إزالة Outliers:\n",
    "data = data[(data['Profit'] > data['Profit'].quantile(0.01)) & (data['Profit'] < data['Profit'].quantile(0.99))]\n",
    "\n"
   ]
  },
  {
   "cell_type": "code",
   "execution_count": null,
   "id": "4c6de6fb",
   "metadata": {},
   "outputs": [],
   "source": [
    "category_sales = data.groupby('Region')['Sales'].sum()\n",
    "category_sales.plot(kind=\"pie\" , autopct='%1.1f%%')\n",
    "plt.title('Total Sales by Regoin' )\n",
    "plt.show()"
   ]
  },
  {
   "cell_type": "code",
   "execution_count": null,
   "id": "98d95f32",
   "metadata": {},
   "outputs": [],
   "source": [
    "data['Order Date'] = pd.to_datetime(data['Order Date'])\n",
    "\n",
    "monthly_profit = data.groupby(data['Order Date'].dt.to_period('M'))['Profit'].sum()\n",
    "monthly_profit.index = monthly_profit.index.to_timestamp()\n",
    "\n",
    "monthly_profit.plot(figsize=(10, 5))\n",
    "plt.title('Monthly Profit Over Time')\n",
    "plt.xlabel('Month')\n",
    "plt.ylabel('Profit')\n",
    "plt.grid(True)\n",
    "plt.show()"
   ]
  },
  {
   "cell_type": "code",
   "execution_count": null,
   "id": "8aadc0c4",
   "metadata": {},
   "outputs": [],
   "source": [
    "pivot_table = pd.pivot_table(data, values='Profit', index='Category', columns='Region', aggfunc='sum')\n",
    "\n",
    "sns.heatmap(pivot_table, annot=True, fmt='.0f', cmap='YlGnBu')\n",
    "plt.title('Profit by Category and Region')\n",
    "plt.show()\n"
   ]
  },
  {
   "cell_type": "code",
   "execution_count": null,
   "id": "4f671bb5",
   "metadata": {},
   "outputs": [],
   "source": [
    "#EDA\n",
    "data.info()"
   ]
  },
  {
   "cell_type": "code",
   "execution_count": null,
   "id": "fefe8b66",
   "metadata": {},
   "outputs": [],
   "source": [
    "print(data.isnull().sum())"
   ]
  },
  {
   "cell_type": "code",
   "execution_count": null,
   "id": "aeae18d6",
   "metadata": {},
   "outputs": [],
   "source": [
    "#Data Cleanning\n",
    "data.columns"
   ]
  },
  {
   "cell_type": "code",
   "execution_count": null,
   "id": "ffb6a6e9",
   "metadata": {},
   "outputs": [],
   "source": [
    "data=data.drop(['Row ID', 'Order ID', 'Order Date', 'Ship Date',\n",
    "       'Customer ID', 'Customer Name',\n",
    "       'Postal Code',  'Product ID' , 'Product Name'] , axis=1 )"
   ]
  },
  {
   "cell_type": "code",
   "execution_count": null,
   "id": "1f16a94f",
   "metadata": {},
   "outputs": [],
   "source": [
    "data"
   ]
  },
  {
   "cell_type": "code",
   "execution_count": null,
   "id": "239acfd0",
   "metadata": {},
   "outputs": [],
   "source": [
    "data = pd.get_dummies(data, columns=[\"Category\", \"Sub-Category\" , 'Country', 'Region', 'State', 'City', 'Ship Mode' ,  'Segment'], dtype=int)\n",
    "\n",
    "data\n"
   ]
  },
  {
   "cell_type": "code",
   "execution_count": null,
   "id": "9c33f3ae",
   "metadata": {},
   "outputs": [],
   "source": [
    "y=data[\"Profit\"]\n",
    "x=data.drop([\"Profit\"] , axis=1)\n",
    "\n"
   ]
  },
  {
   "cell_type": "code",
   "execution_count": null,
   "id": "ca9fdb02",
   "metadata": {},
   "outputs": [],
   "source": [
    "\n",
    "scaler = StandardScaler()\n",
    "x = scaler.fit_transform(x)\n",
    "\n",
    "x_train , x_test , y_train , y_test =model_selection.train_test_split(x ,y , test_size=0.2,random_state=42 )\n",
    "print(x_train.shape , y_train.shape) , x_test , y_test\n",
    "\n",
    "\n",
    "modeles={\"RandomForestRegressor\":RandomForestRegressor() , \n",
    "         \"GradientBoostingRegressor\":GradientBoostingRegressor() ,\n",
    "         \"LinearRegression\" :LinearRegression(),\n",
    "         \"DecisionTreeRegressor\":DecisionTreeRegressor(),\n",
    "         \"KNeighborsRegressor\":KNeighborsRegressor()\n",
    "     \n",
    "         }\n",
    "\n",
    "for name,x in modeles.items():\n",
    "    \n",
    "    x.fit(x_train,y_train)\n",
    "    y_pred=x.predict(x_train)\n",
    "\n",
    "    score=r2_score(y_train, y_pred)\n",
    "    print(f\"{name}  accuracy score is {score} \")\n",
    "   \n",
    "    \n",
    "\n"
   ]
  },
  {
   "cell_type": "code",
   "execution_count": null,
   "id": "b448e1f5",
   "metadata": {},
   "outputs": [],
   "source": [
    "best_model=DecisionTreeRegressor()\n",
    "best_model.fit(x_train,y_train)\n",
    "y_pre=best_model.predict(x_test)\n",
    "score1=r2_score(y_test , y_pre)\n",
    "print(f\"DecisionTreeRegressor accuracy score is {score1}\")\n",
    "df=pd.DataFrame({'DecisionTreeRegressor accuracy score is':[score1]})"
   ]
  },
  {
   "cell_type": "code",
   "execution_count": null,
   "id": "0a81ba3d",
   "metadata": {},
   "outputs": [],
   "source": []
  }
 ],
 "metadata": {
  "kernelspec": {
   "display_name": ".venv",
   "language": "python",
   "name": "python3"
  },
  "language_info": {
   "codemirror_mode": {
    "name": "ipython",
    "version": 3
   },
   "file_extension": ".py",
   "mimetype": "text/x-python",
   "name": "python",
   "nbconvert_exporter": "python",
   "pygments_lexer": "ipython3",
   "version": "3.11.9"
  }
 },
 "nbformat": 4,
 "nbformat_minor": 5
}

{
 "cells": [
  {
   "cell_type": "code",
   "execution_count": null,
   "id": "5aec6833",
   "metadata": {},
   "outputs": [],
   "source": [
    "#import\n",
    "\n",
    "import pandas as pd\n",
    "import numpy as np\n",
    "import matplotlib.pyplot as plt\n",
    "import seaborn as sns\n",
    "\n",
    "from sklearn.ensemble import RandomForestRegressor, GradientBoostingRegressor\n",
    "from sklearn.linear_model import LinearRegression\n",
    "from sklearn.tree import DecisionTreeRegressor\n",
    "from sklearn.neighbors import KNeighborsRegressor\n",
    "\n",
    "\n",
    "\n",
    "from sklearn.preprocessing import StandardScaler\n",
    "from sklearn.model_selection import train_test_split\n",
    "from sklearn.metrics import r2_score, mean_absolute_error, mean_squared_error\n"
   ]
  },
  {
   "cell_type": "code",
   "execution_count": null,
   "id": "a1334df7",
   "metadata": {},
   "outputs": [],
   "source": [
    "#Load the data\n",
    "data=pd.read_csv(r\"Sample - Superstore.csv\",encoding='latin1')"
   ]
  },
  {
   "cell_type": "code",
   "execution_count": null,
   "id": "3ff8f0c3",
   "metadata": {},
   "outputs": [],
   "source": [
    "data.dtypes"
   ]
  },
  {
   "cell_type": "code",
   "execution_count": null,
   "id": "0a0f6268",
   "metadata": {},
   "outputs": [],
   "source": [
    "plt.figure(figsize=(6,4))\n",
    "data.groupby('Category')['Sales'].sum().plot(kind='bar')\n",
    "plt.title('Total Sales by Category')\n",
    "plt.xlabel('Category')\n",
    "plt.ylabel('Sales($)')\n",
    "plt.show()\n"
   ]
  },
  {
   "cell_type": "code",
   "execution_count": null,
   "id": "89859d87",
   "metadata": {},
   "outputs": [],
   "source": [
    "# إزالة Outliers:\n",
    "data = data[(data['Profit'] > data['Profit'].quantile(0.01)) & \n",
    "            (data['Profit'] < data['Profit'].quantile(0.99))]\n"
   ]
  },
  {
   "cell_type": "code",
   "execution_count": null,
   "id": "4c6de6fb",
   "metadata": {},
   "outputs": [],
   "source": [
    "plt.figure(figsize=(6,6))\n",
    "data.groupby('Region')['Sales'].sum().plot(kind=\"pie\", autopct='%1.1f%%')\n",
    "plt.title('Total Sales by Region')\n",
    "plt.ylabel('')\n",
    "plt.show()"
   ]
  },
  {
   "cell_type": "code",
   "execution_count": null,
   "id": "98d95f32",
   "metadata": {},
   "outputs": [],
   "source": [
    "data['Order Date'] = pd.to_datetime(data['Order Date'])\n",
    "monthly_profit = data.groupby(data['Order Date'].dt.to_period('M'))['Profit'].sum()\n",
    "monthly_profit.index = monthly_profit.index.to_timestamp()\n",
    "\n",
    "plt.figure(figsize=(10,5))\n",
    "monthly_profit.plot()\n",
    "plt.title('Monthly Profit Over Time')\n",
    "plt.xlabel('Month')\n",
    "plt.ylabel('Profit')\n",
    "plt.grid(True)\n",
    "plt.show()"
   ]
  },
  {
   "cell_type": "code",
   "execution_count": null,
   "id": "8aadc0c4",
   "metadata": {},
   "outputs": [],
   "source": [
    "pivot_table = pd.pivot_table(data, values='Profit', index='Category', columns='Region', aggfunc='sum')\n",
    "\n",
    "sns.heatmap(pivot_table, annot=True, fmt='.0f', cmap='YlGnBu')\n",
    "plt.title('Profit by Category and Region')\n",
    "plt.show()\n"
   ]
  },
  {
   "cell_type": "code",
   "execution_count": null,
   "id": "4f671bb5",
   "metadata": {},
   "outputs": [],
   "source": [
    "#EDA\n",
    "data.info()"
   ]
  },
  {
   "cell_type": "code",
   "execution_count": null,
   "id": "fefe8b66",
   "metadata": {},
   "outputs": [],
   "source": [
    "print(data.isnull().sum())"
   ]
  },
  {
   "cell_type": "code",
   "execution_count": null,
   "id": "aeae18d6",
   "metadata": {},
   "outputs": [],
   "source": [
    "#Data Cleanning\n",
    "data.columns"
   ]
  },
  {
   "cell_type": "code",
   "execution_count": null,
   "id": "ffb6a6e9",
   "metadata": {},
   "outputs": [],
   "source": [
    "\n",
    "data = data.drop(['Row ID', 'Order ID', \n",
    "                  'Customer ID', 'Customer Name',\n",
    "                  'Postal Code', 'Product ID'], axis=1)"
   ]
  },
  {
   "cell_type": "code",
   "execution_count": null,
   "id": "1f16a94f",
   "metadata": {},
   "outputs": [],
   "source": [
    "data"
   ]
  },
  {
   "cell_type": "code",
   "execution_count": null,
   "id": "239acfd0",
   "metadata": {},
   "outputs": [],
   "source": [
    "\n",
    "data = pd.get_dummies(data, columns=[\"Category\", \"Sub-Category\", 'Country', \n",
    "                                     'Region', 'State', 'City', 'Ship Mode', 'Segment' , \"Product Name\"], \n",
    "                      dtype=int)\n",
    "\n",
    "data.head(5)\n"
   ]
  },
  {
   "cell_type": "code",
   "execution_count": null,
   "id": "84998707",
   "metadata": {},
   "outputs": [],
   "source": [
    "\n",
    "# Convert to datetime\n",
    "data[\"Order Date\"] = pd.to_datetime(data[\"Order Date\"])\n",
    "data[\"Ship Date\"] = pd.to_datetime(data[\"Ship Date\"])\n",
    "\n",
    "# Extract features\n",
    "data[\"Order_Year\"] = data[\"Order Date\"].dt.year\n",
    "data[\"Order_Month\"] = data[\"Order Date\"].dt.month\n",
    "data[\"Order_Day\"] = data[\"Order Date\"].dt.day\n",
    "data[\"Order_DayOfWeek\"] = data[\"Order Date\"].dt.dayofweek  # 0 = Monday\n",
    "data[\"Order_Quarter\"] = data[\"Order Date\"].dt.quarter\n",
    "\n",
    "# Shipping duration\n",
    "data[\"Shipping_Days\"] = (data[\"Ship Date\"] - data[\"Order Date\"]).dt.days\n",
    "\n",
    "# Cyclical encoding for Month & DayOfWeek\n",
    "data[\"Month_sin\"] = np.sin(2 * np.pi * data[\"Order_Month\"] / 12)\n",
    "data[\"Month_cos\"] = np.cos(2 * np.pi * data[\"Order_Month\"] / 12)\n",
    "\n",
    "data[\"DayOfWeek_sin\"] = np.sin(2 * np.pi * data[\"Order_DayOfWeek\"] / 7)\n",
    "data[\"DayOfWeek_cos\"] = np.cos(2 * np.pi * data[\"Order_DayOfWeek\"] / 7)\n",
    "\n"
   ]
  },
  {
   "cell_type": "code",
   "execution_count": null,
   "id": "e94667f7",
   "metadata": {},
   "outputs": [],
   "source": [
    "data.head()"
   ]
  },
  {
   "cell_type": "code",
   "execution_count": null,
   "id": "9c33f3ae",
   "metadata": {},
   "outputs": [],
   "source": [
    "y=data[\"Profit\"]\n",
    "x=data.drop([\"Profit\"] , axis=1)\n",
    "\n"
   ]
  },
  {
   "cell_type": "code",
   "execution_count": null,
   "id": "ca9fdb02",
   "metadata": {},
   "outputs": [],
   "source": [
    "\n",
    "scaler = StandardScaler()\n",
    "x = scaler.fit_transform(x)\n",
    "\n",
    "x_train , x_test , y_train , y_test =train_test_split(x ,y , test_size=0.2,random_state=42 )\n",
    "print(x_train.shape , y_train.shape) , x_test , y_test\n",
    "\n",
    "\n",
    "models = {\n",
    "    \"RandomForestRegressor\": RandomForestRegressor(random_state=42),\n",
    "    \"GradientBoostingRegressor\": GradientBoostingRegressor(random_state=42),\n",
    "    \"LinearRegression\": LinearRegression(),\n",
    "    \"DecisionTreeRegressor\": DecisionTreeRegressor(random_state=42),\n",
    "    \"KNeighborsRegressor\": KNeighborsRegressor(),\n",
    "   \n",
    "   \n",
    "}\n",
    "\n",
    "\n",
    "results = []\n",
    "\n",
    "for name, model in models.items():\n",
    "    model.fit(x_train, y_train)\n",
    "    y_pred_train = model.predict(x_train)\n",
    "    y_pred_test = model.predict(x_test)\n",
    "\n",
    "    train_r2 = r2_score(y_train, y_pred_train)\n",
    "    test_r2 = r2_score(y_test, y_pred_test)\n",
    "    mae = mean_absolute_error(y_test, y_pred_test)\n",
    "    rmse = np.sqrt(mean_squared_error(y_test, y_pred_test))\n",
    "\n",
    "    results.append({\n",
    "        \"Model\": name,\n",
    "        \"Train R2\": train_r2,\n",
    "        \"Test R2\": test_r2,\n",
    "        \"MAE\": mae,\n",
    "        \"RMSE\": rmse\n",
    "    })\n",
    "   \n",
    "    \n",
    "\n",
    "results_data = pd.DataFrame(results)\n",
    "print(results_data.sort_values(by=\"Test R2\", ascending=False))"
   ]
  }
 ],
 "metadata": {
  "kernelspec": {
   "display_name": "base",
   "language": "python",
   "name": "python3"
  },
  "language_info": {
   "codemirror_mode": {
    "name": "ipython",
    "version": 3
   },
   "file_extension": ".py",
   "mimetype": "text/x-python",
   "name": "python",
   "nbconvert_exporter": "python",
   "pygments_lexer": "ipython3",
   "version": "3.13.5"
  }
 },
 "nbformat": 4,
 "nbformat_minor": 5
}

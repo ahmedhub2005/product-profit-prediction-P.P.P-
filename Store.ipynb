{
 "cells": [
  {
   "cell_type": "code",
   "execution_count": null,
   "id": "24e31685",
   "metadata": {},
   "outputs": [],
   "source": [
    "#import\n",
    "import pandas as pd\n",
    "import numpy as np\n",
    "import matplotlib.pyplot as plt\n",
    "import seaborn as sns\n",
    "\n",
    "from sklearn.ensemble import RandomForestRegressor, GradientBoostingRegressor\n",
    "from sklearn.linear_model import LinearRegression\n",
    "from sklearn.tree import DecisionTreeRegressor\n",
    "from sklearn.neighbors import KNeighborsRegressor\n",
    "\n",
    "from sklearn.preprocessing import StandardScaler\n",
    "from sklearn.model_selection import train_test_split\n",
    "from sklearn.metrics import r2_score, mean_absolute_error, mean_squared_error\n",
    "\n"
   ]
  },
  {
   "cell_type": "code",
   "execution_count": null,
   "id": "337b8ec5",
   "metadata": {},
   "outputs": [],
   "source": [
    "# Load data\n",
    "data = pd.read_csv(r\"Sample - Superstore.csv\", encoding='latin1')"
   ]
  },
  {
   "cell_type": "code",
   "execution_count": null,
   "id": "ca6ac86a",
   "metadata": {},
   "outputs": [],
   "source": [
    "data.head(5)"
   ]
  },
  {
   "cell_type": "code",
   "execution_count": null,
   "id": "54fb5c08",
   "metadata": {},
   "outputs": [],
   "source": [
    "data.info()"
   ]
  },
  {
   "cell_type": "code",
   "execution_count": null,
   "id": "3b38f298",
   "metadata": {},
   "outputs": [],
   "source": [
    "data.describe()"
   ]
  },
  {
   "cell_type": "code",
   "execution_count": null,
   "id": "376be2f4",
   "metadata": {},
   "outputs": [],
   "source": [
    "data.isnull().sum()"
   ]
  },
  {
   "cell_type": "markdown",
   "id": "d551a01f",
   "metadata": {},
   "source": [
    "Data Preprocessing"
   ]
  },
  {
   "cell_type": "code",
   "execution_count": null,
   "id": "b712a360",
   "metadata": {},
   "outputs": [],
   "source": [
    "\n",
    "# إزالة Outliers\n",
    "data = data[(data['Profit'] > data['Profit'].quantile(0.01)) & \n",
    "            (data['Profit'] < data['Profit'].quantile(0.99))]\n",
    "\n",
    "# Convert to datetime\n",
    "data[\"Order Date\"] = pd.to_datetime(data[\"Order Date\"])\n",
    "data[\"Ship Date\"] = pd.to_datetime(data[\"Ship Date\"])\n",
    "\n",
    "# Extract features\n",
    "data[\"Order_Year\"] = data[\"Order Date\"].dt.year\n",
    "data[\"Order_Month\"] = data[\"Order Date\"].dt.month\n",
    "data[\"Order_Day\"] = data[\"Order Date\"].dt.day\n",
    "data[\"Order_DayOfWeek\"] = data[\"Order Date\"].dt.dayofweek\n",
    "data[\"Order_Quarter\"] = data[\"Order Date\"].dt.quarter\n",
    "data[\"Shipping_Days\"] = (data[\"Ship Date\"] - data[\"Order Date\"]).dt.days\n",
    "\n",
    "# Cyclical encoding\n",
    "data[\"Month_sin\"] = np.sin(2 * np.pi * data[\"Order_Month\"] / 12)\n",
    "data[\"Month_cos\"] = np.cos(2 * np.pi * data[\"Order_Month\"] / 12)\n",
    "data[\"DayOfWeek_sin\"] = np.sin(2 * np.pi * data[\"Order_DayOfWeek\"] / 7)\n",
    "data[\"DayOfWeek_cos\"] = np.cos(2 * np.pi * data[\"Order_DayOfWeek\"] / 7)\n",
    "\n",
    "# Drop unused columns\n",
    "data = data.drop(['Row ID', 'Order ID', 'Customer ID', 'Customer Name', \n",
    "                  'Postal Code', 'Product ID'], axis=1)\n",
    "\n",
    "# --- Encoding ---\n",
    "# One-hot for small categories\n",
    "data = pd.get_dummies(data, columns=[\"Category\", \"Sub-Category\", \n",
    "                                     \"Country\", \"Region\", \n",
    "                                     \"Ship Mode\", \"Segment\"], dtype=int)\n",
    "\n",
    "# Target Encoding for high cardinality features\n",
    "for col in [\"State\", \"City\", \"Product Name\"]:\n",
    "    mean_profit = data.groupby(col)[\"Profit\"].mean()\n",
    "    data[col] = data[col].map(mean_profit)\n",
    "\n",
    "# Split data\n",
    "y = data[\"Profit\"]\n",
    "X = data.drop([\"Profit\", \"Order Date\", \"Ship Date\"], axis=1)\n",
    "\n",
    "# Scaling\n",
    "scaler = StandardScaler()\n",
    "X = scaler.fit_transform(X)\n",
    "\n",
    "x_train, x_test, y_train, y_test = train_test_split(X, y, test_size=0.2, random_state=42)"
   ]
  },
  {
   "cell_type": "markdown",
   "id": "1cb6f4be",
   "metadata": {},
   "source": [
    "Models and Results"
   ]
  },
  {
   "cell_type": "code",
   "execution_count": null,
   "id": "dc643eb5",
   "metadata": {},
   "outputs": [],
   "source": [
    "# Models\n",
    "models = {\n",
    "    \"RandomForestRegressor\": RandomForestRegressor(random_state=42),\n",
    "    \"GradientBoostingRegressor\": GradientBoostingRegressor(random_state=42),\n",
    "    \"LinearRegression\": LinearRegression(),\n",
    "    \"DecisionTreeRegressor\": DecisionTreeRegressor(random_state=42),\n",
    "    \"KNeighborsRegressor\": KNeighborsRegressor()\n",
    "}\n",
    "\n",
    "results = []\n",
    "\n",
    "# Training + Evaluation + Visualization\n",
    "for name, model in models.items():\n",
    "    model.fit(x_train, y_train)\n",
    "    y_pred_train = model.predict(x_train)\n",
    "    y_pred_test = model.predict(x_test)\n",
    "\n",
    "    train_r2 = r2_score(y_train, y_pred_train)\n",
    "    test_r2 = r2_score(y_test, y_pred_test)\n",
    "    mae = mean_absolute_error(y_test, y_pred_test)\n",
    "    rmse = np.sqrt(mean_squared_error(y_test, y_pred_test))\n",
    "\n",
    "    results.append({\n",
    "        \"Model\": name,\n",
    "        \"Train R2\": train_r2,\n",
    "        \"Test R2\": test_r2,\n",
    "        \"MAE\": mae,\n",
    "        \"RMSE\": rmse\n",
    "    })\n",
    "\n",
    "    # Actual vs Predicted plot\n",
    "    plt.figure(figsize=(6, 4))\n",
    "    plt.scatter(y_test, y_pred_test, alpha=0.5)\n",
    "    plt.xlabel(\"Actual Profit\")\n",
    "    plt.ylabel(\"Predicted Profit\")\n",
    "    plt.title(f\"{name} - Actual vs Predicted\")\n",
    "    plt.plot([y_test.min(), y_test.max()], [y_test.min(), y_test.max()], 'r--')\n",
    "    plt.show()\n",
    "\n",
    "# Results table\n",
    "results_data = pd.DataFrame(results)\n",
    "print(results_data.sort_values(by=\"Test R2\", ascending=False))"
   ]
  },
  {
   "cell_type": "code",
   "execution_count": null,
   "id": "39e214fe",
   "metadata": {},
   "outputs": [],
   "source": [
    "import joblib\n",
    "best_model=RandomForestRegressor()\n",
    "joblib.dump(best_model, \"super_store_model.pkl\")\n",
    "joblib.dump(scaler, \"scaler.pkl\")\n",
    "\n"
   ]
  }
 ],
 "metadata": {
  "kernelspec": {
   "display_name": "base",
   "language": "python",
   "name": "python3"
  },
  "language_info": {
   "codemirror_mode": {
    "name": "ipython",
    "version": 3
   },
   "file_extension": ".py",
   "mimetype": "text/x-python",
   "name": "python",
   "nbconvert_exporter": "python",
   "pygments_lexer": "ipython3",
   "version": "3.13.5"
  }
 },
 "nbformat": 4,
 "nbformat_minor": 5
}
